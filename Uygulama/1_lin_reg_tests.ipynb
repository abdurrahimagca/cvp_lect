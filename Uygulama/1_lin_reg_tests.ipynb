{
 "cells": [
  {
   "cell_type": "code",
   "execution_count": null,
   "metadata": {},
   "outputs": [],
   "source": [
    "import numpy as np\n",
    "import matplotlib.pyplot as plt"
   ]
  },
  {
   "cell_type": "code",
   "execution_count": null,
   "metadata": {},
   "outputs": [],
   "source": [
    "X = np.linspace(5, 14, 10)\n",
    "print(X)"
   ]
  },
  {
   "cell_type": "code",
   "execution_count": null,
   "metadata": {},
   "outputs": [],
   "source": [
    "y = 2 * X\n",
    "print(y)"
   ]
  },
  {
   "cell_type": "code",
   "execution_count": null,
   "metadata": {},
   "outputs": [],
   "source": [
    "plt.figure(figsize=(6, 4))\n",
    "plt.scatter(X, y)\n",
    "plt.ylabel(\"Fiyat\")\n",
    "plt.xlabel(\"Metrekare\")\n",
    "plt.show()"
   ]
  },
  {
   "cell_type": "code",
   "execution_count": null,
   "metadata": {},
   "outputs": [],
   "source": [
    "t1 = 1\n",
    "y_hat = t1 * X\n",
    "plt.figure(figsize=(6, 4))\n",
    "plt.scatter(X, y, label=\"Gerçekler\")\n",
    "plt.scatter(X, y_hat, label=\"Tahminler\")\n",
    "plt.ylabel(\"Fiyat\")\n",
    "plt.xlabel(\"Metrekare\")\n",
    "plt.legend()\n",
    "plt.show()"
   ]
  },
  {
   "cell_type": "code",
   "execution_count": null,
   "metadata": {},
   "outputs": [],
   "source": [
    "len(X)"
   ]
  },
  {
   "cell_type": "code",
   "execution_count": null,
   "metadata": {},
   "outputs": [],
   "source": [
    "np.sum((y_hat - y) ** 2) / (2 * len(X))"
   ]
  },
  {
   "cell_type": "code",
   "execution_count": null,
   "metadata": {},
   "outputs": [],
   "source": [
    "my_list = []\n",
    "my_list.append(3)\n",
    "my_list.append(7)\n",
    "print(my_list)"
   ]
  },
  {
   "cell_type": "code",
   "execution_count": null,
   "metadata": {},
   "outputs": [],
   "source": [
    "thetalar = np.linspace(-10, 10, 31)\n",
    "hatalar = []\n",
    "for theta in thetalar:\n",
    "    y_hat = theta * X\n",
    "    hata = np.sum((y_hat - y) ** 2) / (2 * len(X))\n",
    "    hatalar.append(hata)\n",
    "    # print(f\"Theta değeri: {theta:.2f}, Hata: {hata:.2f}\") # python f-string"
   ]
  },
  {
   "cell_type": "code",
   "execution_count": null,
   "metadata": {},
   "outputs": [],
   "source": [
    "plt.figure(figsize=(6, 4))\n",
    "plt.scatter(thetalar, hatalar)\n",
    "plt.ylabel(\"Hata\")\n",
    "plt.xlabel(\"Theta\")\n",
    "plt.show()"
   ]
  },
  {
   "cell_type": "code",
   "execution_count": null,
   "metadata": {},
   "outputs": [],
   "source": [
    "X = np.linspace(5, 14, 10)\n",
    "y = 2 * X\n",
    "t1 = 1\n",
    "y_hat = t1 * X"
   ]
  },
  {
   "cell_type": "code",
   "execution_count": null,
   "metadata": {},
   "outputs": [],
   "source": [
    "t1 = t1 - 0.001 * np.sum((y_hat - y) * X) / (len(X))\n",
    "print(t1)"
   ]
  },
  {
   "cell_type": "code",
   "execution_count": null,
   "metadata": {},
   "outputs": [],
   "source": [
    "X = np.linspace(5, 14, 10)\n",
    "y = 2 * X\n",
    "t1 = 1\n",
    "learning_rate = 0.001\n",
    "for _ in range(100):\n",
    "    y_hat = t1 * X\n",
    "    hata = np.sum((y_hat - y) ** 2) / (2 * len(X))\n",
    "    gradient = np.sum((y_hat - y) * X) / (len(X))\n",
    "    t1 = t1 - learning_rate * gradient\n",
    "    print(f\"t: {t1:.3f}, loss: {hata:.3f}\")"
   ]
  },
  {
   "cell_type": "markdown",
   "metadata": {},
   "source": [
    "Gürültülü örnekler\n"
   ]
  },
  {
   "cell_type": "code",
   "execution_count": null,
   "metadata": {},
   "outputs": [],
   "source": [
    "X = np.linspace(5, 15, 21)\n",
    "y = 3 * X + np.random.randn(len(X))\n",
    "plt.figure(figsize=(6, 4))\n",
    "plt.scatter(X, y)\n",
    "plt.ylabel(\"Fiyat\")\n",
    "plt.xlabel(\"Metrekare\")\n",
    "plt.show()"
   ]
  },
  {
   "cell_type": "code",
   "execution_count": null,
   "metadata": {},
   "outputs": [],
   "source": [
    "t1 = -3\n",
    "learning_rate = 0.01\n",
    "for _ in range(100):\n",
    "    y_hat = t1 * X\n",
    "    hata = np.sum((y_hat - y) ** 2) / (2 * len(X))\n",
    "    gradient = np.sum((y_hat - y) * X) / (len(X))\n",
    "    t1 = t1 - learning_rate * gradient\n",
    "    print(f\"t: {t1:.3f}, loss: {hata:.3f}\")"
   ]
  },
  {
   "cell_type": "code",
   "execution_count": null,
   "metadata": {},
   "outputs": [],
   "source": [
    "plt.figure(figsize=(6, 4))\n",
    "plt.scatter(X, y, label=\"gerçekler\")\n",
    "plt.plot(X, y_hat, label=\"tahminler\")\n",
    "plt.ylabel(\"Fiyat\")\n",
    "plt.xlabel(\"Metrekare\")\n",
    "plt.legend()\n",
    "plt.show()"
   ]
  },
  {
   "cell_type": "code",
   "execution_count": null,
   "metadata": {},
   "outputs": [],
   "source": []
  }
 ],
 "metadata": {
  "kernelspec": {
   "display_name": "mlenv",
   "language": "python",
   "name": "python3"
  },
  "language_info": {
   "codemirror_mode": {
    "name": "ipython",
    "version": 3
   },
   "file_extension": ".py",
   "mimetype": "text/x-python",
   "name": "python",
   "nbconvert_exporter": "python",
   "pygments_lexer": "ipython3",
   "version": "3.12.2"
  }
 },
 "nbformat": 4,
 "nbformat_minor": 2
}
