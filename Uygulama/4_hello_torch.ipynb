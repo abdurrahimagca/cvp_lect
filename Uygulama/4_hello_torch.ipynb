{
 "cells": [
  {
   "cell_type": "code",
   "execution_count": null,
   "metadata": {},
   "outputs": [],
   "source": [
    "import torch\n",
    "import torch.nn as nn\n",
    "from torch.optim import SGD\n",
    "\n",
    "import numpy as np\n",
    "import matplotlib.pyplot as plt\n",
    "\n",
    "from sklearn import datasets\n",
    "from sklearn.model_selection import train_test_split\n",
    "from sklearn.metrics import accuracy_score\n",
    "\n",
    "import idx2numpy"
   ]
  },
  {
   "cell_type": "markdown",
   "metadata": {},
   "source": [
    "Lineer Regresyon için Toy Dataset Hazırlama\n"
   ]
  },
  {
   "cell_type": "code",
   "execution_count": null,
   "metadata": {},
   "outputs": [],
   "source": [
    "num_samples = 500\n",
    "num_features = 2\n",
    "X_np, y_np = datasets.make_regression(num_samples, num_features, noise=5, random_state=42)\n",
    "y_np = np.expand_dims(y_np, axis=1)"
   ]
  },
  {
   "cell_type": "code",
   "execution_count": null,
   "metadata": {},
   "outputs": [],
   "source": [
    "print(\"X shape:\", X_np.shape)\n",
    "print(\"İlk 5 X:\")\n",
    "print(X_np[:5])\n",
    "print(\"-\" * 40)\n",
    "print(\"y shape:\", y_np.shape)\n",
    "print(\"ilk 5 y:\")\n",
    "print(y_np[:5])"
   ]
  },
  {
   "cell_type": "code",
   "execution_count": null,
   "metadata": {},
   "outputs": [],
   "source": [
    "X_train, X_test, y_train, y_test = train_test_split(X_np, y_np, test_size=0.2, random_state=42)"
   ]
  },
  {
   "cell_type": "markdown",
   "metadata": {},
   "source": [
    "Numpy Arralerinden Torch Tensorlerine\n"
   ]
  },
  {
   "cell_type": "code",
   "execution_count": null,
   "metadata": {},
   "outputs": [],
   "source": [
    "X_train = torch.from_numpy(X_train.astype(np.float32))\n",
    "y_train = torch.from_numpy(y_train.astype(np.float32))\n",
    "\n",
    "X_test = torch.from_numpy(X_test.astype(np.float32))\n",
    "y_test = torch.from_numpy(y_test.astype(np.float32))"
   ]
  },
  {
   "cell_type": "code",
   "execution_count": null,
   "metadata": {},
   "outputs": [],
   "source": [
    "print(X_train.shape)\n",
    "print(y_train.shape)\n",
    "print(X_test.shape)\n",
    "print(y_test.shape)"
   ]
  },
  {
   "cell_type": "markdown",
   "metadata": {},
   "source": [
    "Lineer Regresyon Modeli\n"
   ]
  },
  {
   "cell_type": "code",
   "execution_count": null,
   "metadata": {},
   "outputs": [],
   "source": [
    "lineer_model = nn.Linear(num_features, 1)\n",
    "loss_func = nn.MSELoss()\n",
    "optimizer = SGD(lineer_model.parameters(), lr=0.001)"
   ]
  },
  {
   "cell_type": "markdown",
   "metadata": {},
   "source": [
    "Model Eğitimi\n"
   ]
  },
  {
   "cell_type": "code",
   "execution_count": null,
   "metadata": {},
   "outputs": [],
   "source": [
    "history = {\"epoch\": [], \"loss\": []}\n",
    "\n",
    "for epoch in range(2000):\n",
    "    y_hat = lineer_model(X_train)\n",
    "    loss = loss_func(y_hat, y_train)\n",
    "    loss.backward()\n",
    "    optimizer.step()\n",
    "    optimizer.zero_grad()\n",
    "\n",
    "    if (epoch + 1) % 20 == 0:\n",
    "        history[\"epoch\"].append(epoch)\n",
    "        history[\"loss\"].append(loss.item())"
   ]
  },
  {
   "cell_type": "markdown",
   "metadata": {},
   "source": [
    "Model Eğitim Süreci Zamana Göre Hata Değişimi\n"
   ]
  },
  {
   "cell_type": "code",
   "execution_count": null,
   "metadata": {},
   "outputs": [],
   "source": [
    "plt.title(\"Lin Reg Model Loss\")\n",
    "plt.plot(history[\"epoch\"], history[\"loss\"], linewidth=3)\n",
    "plt.xlabel(\"Epoch\")\n",
    "plt.ylabel(\"MSE\")\n",
    "plt.show()"
   ]
  },
  {
   "cell_type": "markdown",
   "metadata": {},
   "source": [
    "Test Seti Karşılaştırması\n"
   ]
  },
  {
   "cell_type": "code",
   "execution_count": null,
   "metadata": {},
   "outputs": [],
   "source": [
    "y_predicted = lineer_model(X_test).detach().numpy()\n",
    "plt.figure(figsize=(12, 4))\n",
    "plt.title(\"Lin Reg Testleri\")\n",
    "plt.plot(np.linspace(0, 10, 100), y_test.numpy(), label=\"real\", c=\"r\")\n",
    "plt.plot(np.linspace(0, 10, 100), y_predicted, label=\"prediction\", c=\"b\")\n",
    "plt.legend()\n",
    "plt.show()"
   ]
  },
  {
   "cell_type": "markdown",
   "metadata": {},
   "source": [
    "Logistic Regression ile MNist Dataset Sınıflandırma\n",
    "\n",
    "1. Adım: Veri setini okuma\n"
   ]
  },
  {
   "cell_type": "code",
   "execution_count": null,
   "metadata": {},
   "outputs": [],
   "source": [
    "MNIST_DIR = \"mnist/\"\n",
    "train_arr = idx2numpy.convert_from_file(MNIST_DIR + \"train-images-idx3-ubyte\")\n",
    "train_labels = idx2numpy.convert_from_file(MNIST_DIR + \"train-labels-idx1-ubyte\")\n",
    "\n",
    "X_train = train_arr.reshape(60000, -1)\n",
    "X_train = X_train / 255.0\n",
    "y_train = np.copy(train_labels)\n",
    "\n",
    "X_3 = X_train[y_train == 3]\n",
    "y_3 = np.zeros(X_3.shape[0])\n",
    "\n",
    "X_7 = X_train[y_train == 7]\n",
    "y_7 = np.ones(X_7.shape[0])\n",
    "\n",
    "X_3_7 = np.append(X_3, X_7, axis=0)\n",
    "y_3_7 = np.append(y_3, y_7)\n",
    "\n",
    "ds_check_indexes = [0, 1000, 5000, 5200, 6200, 11000, 12300, 12301, 12395]\n",
    "\n",
    "plt.figure(figsize=(9, 9))\n",
    "\n",
    "for i, index in enumerate(ds_check_indexes):\n",
    "    plt.subplot(3, 3, i+1)\n",
    "    plt.title(str(y_3_7[index]))\n",
    "    plt.imshow(X_3_7[index].reshape(28, 28), cmap=\"gray\")\n",
    "\n",
    "plt.tight_layout()\n",
    "plt.show()"
   ]
  },
  {
   "cell_type": "code",
   "execution_count": null,
   "metadata": {},
   "outputs": [],
   "source": [
    "y_3_7 = np.expand_dims(y_3_7, axis=1)\n",
    "X_train, X_test, y_train, y_test = train_test_split(X_3_7, y_3_7, test_size=0.2, random_state=42)\n",
    "\n",
    "print(X_train.shape, y_train.shape)\n",
    "print(X_test.shape, y_test.shape)"
   ]
  },
  {
   "cell_type": "markdown",
   "metadata": {},
   "source": [
    "Numpy Arraylerini Torch Tensorlerine Dönüştürme\n"
   ]
  },
  {
   "cell_type": "code",
   "execution_count": null,
   "metadata": {},
   "outputs": [],
   "source": [
    "X_train = torch.from_numpy(X_train.astype(np.float32))\n",
    "y_train = torch.from_numpy(y_train.astype(np.float32))\n",
    "\n",
    "X_test = torch.from_numpy(X_test.astype(np.float32))\n",
    "y_test = torch.from_numpy(y_test.astype(np.float32))"
   ]
  },
  {
   "cell_type": "markdown",
   "metadata": {},
   "source": [
    "Logistic Reg Modeli Oluşturma\n"
   ]
  },
  {
   "cell_type": "code",
   "execution_count": null,
   "metadata": {},
   "outputs": [],
   "source": [
    "class LogReg(nn.Module):\n",
    "    def __init__(self, n_input_features):\n",
    "        super().__init__()\n",
    "        self.linear = nn.Linear(n_input_features, 1)\n",
    "\n",
    "    def forward(self, x):\n",
    "        y_lin = self.linear(x)\n",
    "        y_hat = torch.sigmoid(y_lin)\n",
    "        return y_hat"
   ]
  },
  {
   "cell_type": "code",
   "execution_count": null,
   "metadata": {},
   "outputs": [],
   "source": [
    "print(X_train.shape)\n",
    "print(X_train.shape[1])"
   ]
  },
  {
   "cell_type": "markdown",
   "metadata": {},
   "source": [
    "Log Reg Model Eğitimi\n"
   ]
  },
  {
   "cell_type": "code",
   "execution_count": null,
   "metadata": {},
   "outputs": [],
   "source": [
    "num_features = X_train.shape[1]\n",
    "logistic_model = LogReg(num_features)\n",
    "loss_func = nn.BCELoss()\n",
    "optimizer = SGD(logistic_model.parameters(), lr=0.005)\n",
    "\n",
    "history = {\"epoch\": [], \"loss\": []}\n",
    "for epoch in range(1000):\n",
    "    y_hat = logistic_model(X_train)\n",
    "    loss = loss_func(y_hat, y_train)\n",
    "    loss.backward()\n",
    "    optimizer.step()\n",
    "    optimizer.zero_grad()\n",
    "\n",
    "    if (epoch + 1) % 20 == 0:\n",
    "        history[\"epoch\"].append(epoch)\n",
    "        history[\"loss\"].append(loss.item())"
   ]
  },
  {
   "cell_type": "markdown",
   "metadata": {},
   "source": [
    "Model Eğitim Süreci Hata Gözlemleri\n"
   ]
  },
  {
   "cell_type": "code",
   "execution_count": null,
   "metadata": {},
   "outputs": [],
   "source": [
    "plt.title(\"Logistic Reg Model Loss\")\n",
    "plt.plot(history[\"epoch\"], history[\"loss\"], linewidth=3)\n",
    "plt.xlabel(\"Epoch\")\n",
    "plt.ylabel(\"BCE Loss\")\n",
    "plt.show()"
   ]
  },
  {
   "cell_type": "markdown",
   "metadata": {},
   "source": [
    "Tahminler Üzerinden Başarı Hesaplama\n"
   ]
  },
  {
   "cell_type": "code",
   "execution_count": null,
   "metadata": {},
   "outputs": [],
   "source": [
    "with torch.no_grad():\n",
    "    y_predicted = logistic_model(X_test).numpy()"
   ]
  },
  {
   "cell_type": "code",
   "execution_count": null,
   "metadata": {},
   "outputs": [],
   "source": [
    "y_predicted[:3]"
   ]
  },
  {
   "cell_type": "code",
   "execution_count": null,
   "metadata": {},
   "outputs": [],
   "source": [
    "y_predicted = np.squeeze(y_predicted)\n",
    "y_predicted[:3]"
   ]
  },
  {
   "cell_type": "code",
   "execution_count": null,
   "metadata": {},
   "outputs": [],
   "source": [
    "y_test = np.squeeze(y_test.numpy())\n",
    "y_test[:3]"
   ]
  },
  {
   "cell_type": "code",
   "execution_count": null,
   "metadata": {},
   "outputs": [],
   "source": [
    "y_predicted_classes = np.where(y_predicted > 0.5, 1, 0)\n",
    "y_predicted_classes[:3]"
   ]
  },
  {
   "cell_type": "code",
   "execution_count": null,
   "metadata": {},
   "outputs": [],
   "source": [
    "acc = accuracy_score(y_test, y_predicted_classes)\n",
    "print(acc)"
   ]
  },
  {
   "cell_type": "code",
   "execution_count": null,
   "metadata": {},
   "outputs": [],
   "source": []
  }
 ],
 "metadata": {
  "kernelspec": {
   "display_name": "mlenv",
   "language": "python",
   "name": "python3"
  },
  "language_info": {
   "codemirror_mode": {
    "name": "ipython",
    "version": 3
   },
   "file_extension": ".py",
   "mimetype": "text/x-python",
   "name": "python",
   "nbconvert_exporter": "python",
   "pygments_lexer": "ipython3",
   "version": "3.12.2"
  }
 },
 "nbformat": 4,
 "nbformat_minor": 2
}
